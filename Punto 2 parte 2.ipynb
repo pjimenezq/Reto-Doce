{
 "cells": [
  {
   "cell_type": "code",
   "execution_count": 1,
   "metadata": {},
   "outputs": [
    {
     "name": "stdout",
     "output_type": "stream",
     "text": [
      "El archivo tiene 36063 consonantes.\n"
     ]
    }
   ],
   "source": [
    "def consonantes(archivo):#Creando función para contar la cantidad de consonantes\n",
    "    cons:int=0#Declarando variable que servirá para contar las consonantes, se inicializa en 0\n",
    "    for i in archivo:#Para cada letra que se encuentra en el archivo:\n",
    "        if i in \"bcdfghjklmnñpqrstvwxyz\" or i in \"BCDFGHJKLMNÑPQRSTVWXYZ\":#Si la letra es una consonantes mayúscula o minúscula...\n",
    "            cons+=1#...entonces se le suma una unidad al contador de las consonantes\n",
    "    return cons#La función retorna el número final de las consonantes contadas\n",
    "if __name__==\"__main__\":#Función main\n",
    "    with open(\"mbox-short.txt\",\"r\") as file:#Se abre el archivo y se nombra como file\n",
    "        conteoConsonantes=consonantes(file.read())#SE llama a la función consonantes, para aplicar la función en el file\n",
    "        print(\"El archivo tiene {} consonantes.\".format(conteoConsonantes))#Se imprime la cantidad de consonantes que hay en el archivo"
   ]
  }
 ],
 "metadata": {
  "kernelspec": {
   "display_name": "Python 3",
   "language": "python",
   "name": "python3"
  },
  "language_info": {
   "codemirror_mode": {
    "name": "ipython",
    "version": 3
   },
   "file_extension": ".py",
   "mimetype": "text/x-python",
   "name": "python",
   "nbconvert_exporter": "python",
   "pygments_lexer": "ipython3",
   "version": "3.11.4"
  }
 },
 "nbformat": 4,
 "nbformat_minor": 2
}
